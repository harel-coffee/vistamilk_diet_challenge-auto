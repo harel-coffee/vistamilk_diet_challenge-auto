{
 "cells": [
  {
   "cell_type": "markdown",
   "id": "9afe6931",
   "metadata": {},
   "source": [
    "## Import"
   ]
  },
  {
   "cell_type": "code",
   "execution_count": 1,
   "id": "9e0feea3",
   "metadata": {
    "ExecuteTime": {
     "end_time": "2022-04-25T09:02:21.686000Z",
     "start_time": "2022-04-25T09:02:20.760516Z"
    }
   },
   "outputs": [],
   "source": [
    "import numpy as np\n",
    "import pandas as pd\n",
    "\n",
    "\n",
    "from sklearn.feature_selection import SelectFromModel, RFE\n",
    "from sklearn.feature_selection import SelectKBest,VarianceThreshold\n",
    "from sklearn.feature_selection import f_classif\n",
    "\n",
    "from sklearn.model_selection import train_test_split, cross_validate, GridSearchCV\n",
    "from sklearn.linear_model import RidgeClassifierCV\n",
    "from sklearn.metrics import confusion_matrix, ConfusionMatrixDisplay, accuracy_score\n",
    "from sklearn.discriminant_analysis import LinearDiscriminantAnalysis\n",
    "\n",
    "from sklearn.pipeline import Pipeline\n",
    "from sklearn.preprocessing import StandardScaler\n",
    "from sklearn.base import BaseEstimator, ClassifierMixin, TransformerMixin\n",
    "\n",
    "\n",
    "\n",
    "import matplotlib.pyplot as plt"
   ]
  },
  {
   "cell_type": "markdown",
   "id": "10a36c65",
   "metadata": {},
   "source": [
    "## Load and Clean Data"
   ]
  },
  {
   "cell_type": "code",
   "execution_count": 2,
   "id": "dc16dd31",
   "metadata": {
    "ExecuteTime": {
     "end_time": "2022-04-25T09:03:03.069930Z",
     "start_time": "2022-04-25T09:02:21.687723Z"
    }
   },
   "outputs": [],
   "source": [
    "#load data\n",
    "df_dict = pd.read_excel('dataset.xlsx',sheet_name=None)\n",
    "df = df_dict[\"Training\"]\n",
    "\n",
    "remove_outliers = True\n",
    "normalization = False\n",
    "\n",
    "tmp_df = df.copy()\n",
    "if remove_outliers:\n",
    "    #tmp_df = tmp_df[tmp_df.iloc[:,1:].mean(axis=1) > 0.8]\n",
    "    tmp_df = tmp_df[tmp_df['col1'] >= 1]\n",
    "    \n",
    "\n",
    "\n",
    "#shuffle\n",
    "tmp_df = tmp_df.sample(frac=1,random_state=0).reset_index(drop=True)\n",
    "\n",
    "X = tmp_df.iloc[:,1:].values\n",
    "Y = tmp_df[\"Diet\"].values\n",
    "\n",
    "if normalization:\n",
    "    X = X.sub(X.mean(1), axis=0).div(X.std(1), axis=0)"
   ]
  },
  {
   "cell_type": "markdown",
   "id": "95cdc47c",
   "metadata": {},
   "source": [
    "## Random Polynomial Transformer"
   ]
  },
  {
   "cell_type": "code",
   "execution_count": 3,
   "id": "fb2d614b",
   "metadata": {
    "ExecuteTime": {
     "end_time": "2022-04-25T09:03:03.105318Z",
     "start_time": "2022-04-25T09:03:03.071287Z"
    }
   },
   "outputs": [],
   "source": [
    "#https://stackoverflow.com/questions/6881170/is-there-a-way-to-autogenerate-valid-arithmetic-expressions\n",
    "def generateExpression(minTerminal, maxTerminal, maxdepth, group_prob = 0.5, depth=0):\n",
    "    \n",
    "    GROUP_PROB = group_prob\n",
    "    expr = \"\"\n",
    "    CONST_PROB = 0.0 # it seems const doesn't help\n",
    "    UNARY_PROB = 0.0 # it seems unary doesn't help\n",
    "    \n",
    "    if np.random.uniform() < UNARY_PROB:\n",
    "        return np.random.choice([\"np.cos\",\"np.exp\"]) + \"(\" + f'X[:,{np.random.randint(minTerminal, maxTerminal)}]' + \")\"\n",
    "    \n",
    "    grouped = np.random.uniform()< GROUP_PROB    \n",
    "    if grouped:\n",
    "        expr += '('\n",
    "    \n",
    "    if depth < maxdepth and np.random.randint(0, maxdepth) > depth:\n",
    "        expr += generateExpression(minTerminal, maxTerminal, maxdepth, group_prob=group_prob, depth=depth + 1)\n",
    "    else:\n",
    "        if np.random.uniform() < CONST_PROB:\n",
    "            expr += f'{np.random.uniform()}'\n",
    "        else:\n",
    "            expr += f'X[:,{np.random.randint(minTerminal, maxTerminal)}]'\n",
    "    \n",
    "    expr += np.random.choice([\" * \", \" - \", \" + \"])\n",
    "    \n",
    "    if depth < maxdepth and np.random.randint(0, maxdepth) > depth:\n",
    "        expr += generateExpression(minTerminal, maxTerminal, maxdepth, group_prob=group_prob, depth=depth + 1)\n",
    "    else:\n",
    "        if np.random.uniform() < CONST_PROB:\n",
    "            expr += f'{np.random.uniform()}'\n",
    "        else:\n",
    "            expr += f'X[:,{np.random.randint(minTerminal, maxTerminal)}]'\n",
    "    \n",
    "    if grouped:\n",
    "        expr += ')'\n",
    "    return expr\n",
    "\n",
    "class RandomPolynomialTransformer(BaseEstimator, TransformerMixin):            \n",
    "    \n",
    "    def __init__(self, num_kernels=100, random_state=42, keep_origin=False, group_prob=0.5): \n",
    "        self.num_kernels = num_kernels\n",
    "        self.random_state = random_state\n",
    "        self.keep_origin = keep_origin\n",
    "        self.group_prob = group_prob\n",
    "        \n",
    "            \n",
    "    def fit(self, X, y = None):   \n",
    "        np.random.seed(self.random_state)\n",
    "        input_length = X.shape[1]\n",
    "        self.kernels = []   \n",
    "        \n",
    "        for i in range(self.num_kernels):\n",
    "            \n",
    "            kernel = generateExpression(0, input_length, 3, group_prob = self.group_prob) \n",
    "            \n",
    "            self.kernels.append(kernel)\n",
    "            \n",
    "        return self    \n",
    "    \n",
    "    def transform(self, X, y = None):                \n",
    "        X_transform = np.zeros((X.shape[0],self.num_kernels))\n",
    "        for i in range(self.num_kernels):           \n",
    "            X_transform[:,i] = eval(self.kernels[i])\n",
    "            \n",
    "        if self.keep_origin:\n",
    "            return np.hstack((X_transform,X))\n",
    "        else:\n",
    "            return X_transform\n",
    "\n",
    "class RocketNormalizer(BaseEstimator, TransformerMixin):            \n",
    "            \n",
    "    def fit(self, X, y = None):        \n",
    "        self._mean = X.mean(0)\n",
    "        self._norm = np.sqrt(np.square(X - self._mean).sum(axis=0)) + 1e-8        \n",
    "        return self    \n",
    "    \n",
    "    def transform(self, X, y = None):                \n",
    "        return (X - self._mean) / self._norm\n",
    "    \n",
    "def test_clf(clf, X_train, X_test, y_train, y_test):\n",
    "    clf.fit(X_train,y_train)\n",
    "    y_pred = clf.predict(X_test)\n",
    "    print(f'Accuracy: {accuracy_score(y_test, y_pred)}')\n",
    "\n",
    "    cm = confusion_matrix(y_test, y_pred, labels=clf.classes_)\n",
    "    disp = ConfusionMatrixDisplay(confusion_matrix=cm,\n",
    "                               display_labels=clf.classes_)\n",
    "    disp.plot()\n",
    "    plt.show()\n",
    "\n",
    "def mean_acc_cv(clf,X,Y,cv=3):\n",
    "    #print(f'---- Cross Validation ----')\n",
    "    scores = cross_validate(clf, X, Y, scoring=\"accuracy\", cv=cv)\n",
    "    print(f\"CV Mean Accuracy={cv}: {np.mean(scores['test_score'])}\")    \n",
    "\n",
    "def single_split_experiment_old(clf, X, Y):   \n",
    "    X_train, X_test, y_train, y_test = train_test_split(X, Y, test_size=0.4, random_state=0)\n",
    "    print('----- Whole Series -----')\n",
    "    \n",
    "    test_clf(clf, X_train, X_test, y_train, y_test)\n",
    "    \n",
    "    intervals = [(0,172),(206,306),(729,748)] #some how this produced better results\n",
    "    for itv_start, itv_end in intervals:        \n",
    "        print(f'----- Interval: {itv_start} - {itv_end} -----')        \n",
    "        test_clf(clf, X_train[:,itv_start:itv_end], X_test[:,itv_start:itv_end], y_train, y_test)\n",
    "    \n",
    "    print('----- Interval: 0-172 206-306 -----')\n",
    "    X_train_no_water = X_train[:, np.r_[0:172, 206:306]]\n",
    "    X_test_no_water = X_test[:, np.r_[0:172, 206:306]]\n",
    "    test_clf(clf, X_train_no_water, X_test_no_water, y_train, y_test)\n",
    "    \n",
    "    print('----- No Water -----')\n",
    "    X_train_no_water = X_train[:, np.r_[0:172, 206:306, 729:748]]\n",
    "    X_test_no_water = X_test[:, np.r_[0:172, 206:306, 729:748]]\n",
    "    test_clf(clf, X_train_no_water, X_test_no_water, y_train, y_test)\n",
    "    \n",
    "def single_split_experiment(clf, X, Y):    \n",
    "    X_train, X_test, y_train, y_test = train_test_split(X, Y, test_size=0.4, random_state=0)\n",
    "    print('----- Whole Series -----')\n",
    "    \n",
    "    test_clf(clf, X_train, X_test, y_train, y_test)\n",
    "    \n",
    "    intervals = [(0,172),(206,536),(729,748)]\n",
    "    for itv_start, itv_end in intervals:        \n",
    "        print(f'----- Interval: {itv_start} - {itv_end} -----')        \n",
    "        test_clf(clf, X_train[:,itv_start:itv_end], X_test[:,itv_start:itv_end], y_train, y_test)\n",
    "    \n",
    "    print('----- Intervals: 0-172 206-536 -----')\n",
    "    X_train_no_water = X_train[:, np.r_[0:172, 206:536]]\n",
    "    X_test_no_water = X_test[:, np.r_[0:172, 206:536]]\n",
    "    test_clf(clf, X_train_no_water, X_test_no_water, y_train, y_test)\n",
    "    \n",
    "    print('----- No Water -----')\n",
    "    X_train_no_water = X_train[:, np.r_[0:172, 206:536, 729:748]]\n",
    "    X_test_no_water = X_test[:, np.r_[0:172, 206:536, 729:748]]\n",
    "    test_clf(clf, X_train_no_water, X_test_no_water, y_train, y_test)\n",
    "\n",
    "    \n",
    "def cross_validate_experiment_old(clf, X, Y, cv=3):    \n",
    "    #X_train, X_test, y_train, y_test = train_test_split(X, Y, test_size=0.4, random_state=0)\n",
    "    print('----- Whole Series -----')\n",
    "    \n",
    "    mean_acc_cv(clf, X, Y, cv=cv)\n",
    "    \n",
    "    intervals = [(0,172),(206,306),(729,748)]\n",
    "    for itv_start, itv_end in intervals:        \n",
    "        print(f'----- Interval: {itv_start} - {itv_end} -----')        \n",
    "        mean_acc_cv(clf, X[:,itv_start:itv_end], Y, cv=cv)\n",
    "    \n",
    "    print('----- Intervals: 0-172 206-306 -----')\n",
    "    mean_acc_cv(clf, X[:, np.r_[0:172, 206:306]], Y, cv=cv)\n",
    "    \n",
    "    print('----- No Water -----')    \n",
    "    mean_acc_cv(clf, X[:, np.r_[0:172, 206:306, 729:748]], Y, cv=cv)\n",
    "\n",
    "    \n",
    "def cross_validate_experiment(clf, X, Y, cv=3):    \n",
    "    #X_train, X_test, y_train, y_test = train_test_split(X, Y, test_size=0.4, random_state=0)\n",
    "    print('----- Whole Series -----')\n",
    "    \n",
    "    mean_acc_cv(clf, X, Y, cv=cv)\n",
    "    \n",
    "    intervals = [(0,172),(206,536),(729,748)]\n",
    "    for itv_start, itv_end in intervals:        \n",
    "        print(f'----- Interval: {itv_start} - {itv_end} -----')        \n",
    "        mean_acc_cv(clf, X[:,itv_start:itv_end], Y, cv=cv)\n",
    "    \n",
    "    print('----- Intervals: 0-172 206-536 -----')\n",
    "    mean_acc_cv(clf, X[:, np.r_[0:172, 206:536]], Y, cv=cv)\n",
    "    \n",
    "    print('----- No Water -----')    \n",
    "    mean_acc_cv(clf, X[:, np.r_[0:172, 206:536, 729:748]], Y, cv=cv)\n",
    "    \n"
   ]
  },
  {
   "cell_type": "markdown",
   "id": "760454ef",
   "metadata": {},
   "source": [
    "## Evaluation"
   ]
  },
  {
   "cell_type": "code",
   "execution_count": 4,
   "id": "78bec478",
   "metadata": {
    "ExecuteTime": {
     "end_time": "2022-04-25T09:03:03.111262Z",
     "start_time": "2022-04-25T09:03:03.106790Z"
    }
   },
   "outputs": [],
   "source": [
    "clf = Pipeline(\n",
    "            [('bespoke',\n",
    "                 RandomPolynomialTransformer(keep_origin=True, num_kernels=17000)),\n",
    "                ('normalizer', StandardScaler()),\n",
    "                ('constantfilter', VarianceThreshold()),\n",
    "                ('selectkbest', SelectKBest(k=7000)),\n",
    "                ('model', LinearDiscriminantAnalysis())],\n",
    "            verbose=False,\n",
    "        )"
   ]
  },
  {
   "cell_type": "code",
   "execution_count": 5,
   "id": "7391bc59",
   "metadata": {
    "ExecuteTime": {
     "end_time": "2022-04-25T09:04:06.625387Z",
     "start_time": "2022-04-25T09:03:03.112479Z"
    }
   },
   "outputs": [
    {
     "name": "stdout",
     "output_type": "stream",
     "text": [
      "----- Whole Series -----\n",
      "Accuracy: 0.6671802773497689\n"
     ]
    },
    {
     "data": {
      "image/png": "[encoded data removed]",
      "text/plain": [
       "<Figure size 432x288 with 2 Axes>"
      ]
     },
     "metadata": {
      "needs_background": "light"
     },
     "output_type": "display_data"
    },
    {
     "name": "stdout",
     "output_type": "stream",
     "text": [
      "----- Interval: 0 - 172 -----\n",
      "Accuracy: 0.8420647149460708\n"
     ]
    },
    {
     "data": {
      "image/png": "[encoded data removed]",
      "text/plain": [
       "<Figure size 432x288 with 2 Axes>"
      ]
     },
     "metadata": {
      "needs_background": "light"
     },
     "output_type": "display_data"
    },
    {
     "name": "stdout",
     "output_type": "stream",
     "text": [
      "----- Interval: 206 - 536 -----\n",
      "Accuracy: 0.7650231124807396\n"
     ]
    },
    {
     "data": {
      "image/png": "[encoded data removed]",
      "text/plain": [
       "<Figure size 432x288 with 2 Axes>"
      ]
     },
     "metadata": {
      "needs_background": "light"
     },
     "output_type": "display_data"
    },
    {
     "name": "stdout",
     "output_type": "stream",
     "text": [
      "----- Interval: 729 - 748 -----\n",
      "Accuracy: 0.3574730354391371\n"
     ]
    },
    {
     "data": {
      "image/png": "[encoded data removed]",
      "text/plain": [
       "<Figure size 432x288 with 2 Axes>"
      ]
     },
     "metadata": {
      "needs_background": "light"
     },
     "output_type": "display_data"
    },
    {
     "name": "stdout",
     "output_type": "stream",
     "text": [
      "----- Intervals: 0-172 206-536 -----\n",
      "Accuracy: 0.8343605546995377\n"
     ]
    },
    {
     "data": {
      "image/png": "[encoded data removed]",
      "text/plain": [
       "<Figure size 432x288 with 2 Axes>"
      ]
     },
     "metadata": {
      "needs_background": "light"
     },
     "output_type": "display_data"
    },
    {
     "name": "stdout",
     "output_type": "stream",
     "text": [
      "----- No Water -----\n",
      "Accuracy: 0.8289676425269645\n"
     ]
    },
    {
     "data": {
      "image/png": "[encoded data removed]",
      "text/plain": [
       "<Figure size 432x288 with 2 Axes>"
      ]
     },
     "metadata": {
      "needs_background": "light"
     },
     "output_type": "display_data"
    }
   ],
   "source": [
    "single_split_experiment(clf,X,Y)"
   ]
  },
  {
   "cell_type": "code",
   "execution_count": 6,
   "id": "af292b20",
   "metadata": {
    "ExecuteTime": {
     "end_time": "2022-04-25T09:07:48.363686Z",
     "start_time": "2022-04-25T09:04:06.627069Z"
    }
   },
   "outputs": [
    {
     "name": "stdout",
     "output_type": "stream",
     "text": [
      "----- Whole Series -----\n",
      "CV Mean Accuracy=3: 0.6565923590295151\n",
      "----- Interval: 0 - 172 -----\n",
      "CV Mean Accuracy=3: 0.8326140249181658\n",
      "----- Interval: 206 - 536 -----\n",
      "CV Mean Accuracy=3: 0.7586292785883771\n",
      "----- Interval: 729 - 748 -----\n",
      "CV Mean Accuracy=3: 0.34988312663190957\n",
      "----- Intervals: 0-172 206-536 -----\n",
      "CV Mean Accuracy=3: 0.8409396493399974\n",
      "----- No Water -----\n",
      "CV Mean Accuracy=3: 0.840939079365025\n"
     ]
    }
   ],
   "source": [
    "cross_validate_experiment(clf, X, Y, cv=3)"
   ]
  },
  {
   "cell_type": "markdown",
   "id": "26a457bd",
   "metadata": {},
   "source": [
    "## Hyperparameter Tuning"
   ]
  },
  {
   "cell_type": "code",
   "execution_count": 8,
   "id": "d9e25bcc",
   "metadata": {
    "ExecuteTime": {
     "end_time": "2022-04-25T09:32:52.451170Z",
     "start_time": "2022-04-25T09:08:23.356916Z"
    },
    "scrolled": false
   },
   "outputs": [
    {
     "name": "stdout",
     "output_type": "stream",
     "text": [
      "Fitting 3 folds for each of 36 candidates, totalling 108 fits\n",
      "[CV 1/3] END bespoke__num_kernels=15000, selectkbest__k=5000;, score=0.855 total time=  10.3s\n",
      "[CV 2/3] END bespoke__num_kernels=15000, selectkbest__k=5000;, score=0.871 total time=  13.1s\n",
      "[CV 3/3] END bespoke__num_kernels=15000, selectkbest__k=5000;, score=0.858 total time=  11.5s\n",
      "[CV 1/3] END bespoke__num_kernels=15000, selectkbest__k=6000;, score=0.859 total time=  11.0s\n",
      "[CV 2/3] END bespoke__num_kernels=15000, selectkbest__k=6000;, score=0.860 total time=  11.3s\n",
      "[CV 3/3] END bespoke__num_kernels=15000, selectkbest__k=6000;, score=0.857 total time=  11.1s\n",
      "[CV 1/3] END bespoke__num_kernels=15000, selectkbest__k=7000;, score=0.848 total time=  12.0s\n",
      "[CV 2/3] END bespoke__num_kernels=15000, selectkbest__k=7000;, score=0.869 total time=  11.9s\n",
      "[CV 3/3] END bespoke__num_kernels=15000, selectkbest__k=7000;, score=0.860 total time=  12.0s\n",
      "[CV 1/3] END bespoke__num_kernels=15000, selectkbest__k=8000;, score=0.850 total time=  12.6s\n",
      "[CV 2/3] END bespoke__num_kernels=15000, selectkbest__k=8000;, score=0.867 total time=  12.5s\n",
      "[CV 3/3] END bespoke__num_kernels=15000, selectkbest__k=8000;, score=0.870 total time=  12.8s\n",
      "[CV 1/3] END bespoke__num_kernels=15000, selectkbest__k=9000;, score=0.858 total time=  12.9s\n",
      "[CV 2/3] END bespoke__num_kernels=15000, selectkbest__k=9000;, score=0.872 total time=  13.3s\n",
      "[CV 3/3] END bespoke__num_kernels=15000, selectkbest__k=9000;, score=0.859 total time=  12.9s\n",
      "[CV 1/3] END bespoke__num_kernels=15000, selectkbest__k=10000;, score=0.843 total time=  13.5s\n",
      "[CV 2/3] END bespoke__num_kernels=15000, selectkbest__k=10000;, score=0.860 total time=  13.6s\n",
      "[CV 3/3] END bespoke__num_kernels=15000, selectkbest__k=10000;, score=0.858 total time=  13.7s\n",
      "[CV 1/3] END bespoke__num_kernels=16000, selectkbest__k=5000;, score=0.854 total time=  10.6s\n",
      "[CV 2/3] END bespoke__num_kernels=16000, selectkbest__k=5000;, score=0.863 total time=  10.7s\n",
      "[CV 3/3] END bespoke__num_kernels=16000, selectkbest__k=5000;, score=0.859 total time=  10.9s\n",
      "[CV 1/3] END bespoke__num_kernels=16000, selectkbest__k=6000;, score=0.860 total time=  10.7s\n",
      "[CV 2/3] END bespoke__num_kernels=16000, selectkbest__k=6000;, score=0.863 total time=  16.3s\n",
      "[CV 3/3] END bespoke__num_kernels=16000, selectkbest__k=6000;, score=0.856 total time=  10.8s\n",
      "[CV 1/3] END bespoke__num_kernels=16000, selectkbest__k=7000;, score=0.848 total time=  11.6s\n",
      "[CV 2/3] END bespoke__num_kernels=16000, selectkbest__k=7000;, score=0.864 total time=  11.1s\n",
      "[CV 3/3] END bespoke__num_kernels=16000, selectkbest__k=7000;, score=0.861 total time=  11.5s\n",
      "[CV 1/3] END bespoke__num_kernels=16000, selectkbest__k=8000;, score=0.847 total time=  12.5s\n",
      "[CV 2/3] END bespoke__num_kernels=16000, selectkbest__k=8000;, score=0.864 total time=  12.7s\n",
      "[CV 3/3] END bespoke__num_kernels=16000, selectkbest__k=8000;, score=0.866 total time=  12.4s\n",
      "[CV 1/3] END bespoke__num_kernels=16000, selectkbest__k=9000;, score=0.851 total time=  12.5s\n",
      "[CV 2/3] END bespoke__num_kernels=16000, selectkbest__k=9000;, score=0.863 total time=  13.2s\n",
      "[CV 3/3] END bespoke__num_kernels=16000, selectkbest__k=9000;, score=0.861 total time=  13.3s\n",
      "[CV 1/3] END bespoke__num_kernels=16000, selectkbest__k=10000;, score=0.857 total time=  13.9s\n",
      "[CV 2/3] END bespoke__num_kernels=16000, selectkbest__k=10000;, score=0.868 total time=  13.6s\n",
      "[CV 3/3] END bespoke__num_kernels=16000, selectkbest__k=10000;, score=0.861 total time=  16.6s\n",
      "[CV 1/3] END bespoke__num_kernels=17000, selectkbest__k=5000;, score=0.847 total time=  12.4s\n",
      "[CV 2/3] END bespoke__num_kernels=17000, selectkbest__k=5000;, score=0.875 total time=  13.1s\n",
      "[CV 3/3] END bespoke__num_kernels=17000, selectkbest__k=5000;, score=0.852 total time=  13.5s\n",
      "[CV 1/3] END bespoke__num_kernels=17000, selectkbest__k=6000;, score=0.855 total time=  15.1s\n",
      "[CV 2/3] END bespoke__num_kernels=17000, selectkbest__k=6000;, score=0.870 total time=  12.5s\n",
      "[CV 3/3] END bespoke__num_kernels=17000, selectkbest__k=6000;, score=0.852 total time=  11.9s\n",
      "[CV 1/3] END bespoke__num_kernels=17000, selectkbest__k=7000;, score=0.860 total time=  12.3s\n",
      "[CV 2/3] END bespoke__num_kernels=17000, selectkbest__k=7000;, score=0.865 total time=  12.9s\n",
      "[CV 3/3] END bespoke__num_kernels=17000, selectkbest__k=7000;, score=0.867 total time=  12.5s\n",
      "[CV 1/3] END bespoke__num_kernels=17000, selectkbest__k=8000;, score=0.851 total time=  12.8s\n",
      "[CV 2/3] END bespoke__num_kernels=17000, selectkbest__k=8000;, score=0.858 total time=  13.1s\n",
      "[CV 3/3] END bespoke__num_kernels=17000, selectkbest__k=8000;, score=0.873 total time=  13.5s\n",
      "[CV 1/3] END bespoke__num_kernels=17000, selectkbest__k=9000;, score=0.856 total time=  13.8s\n",
      "[CV 2/3] END bespoke__num_kernels=17000, selectkbest__k=9000;, score=0.858 total time=  13.7s\n",
      "[CV 3/3] END bespoke__num_kernels=17000, selectkbest__k=9000;, score=0.871 total time=  13.6s\n",
      "[CV 1/3] END bespoke__num_kernels=17000, selectkbest__k=10000;, score=0.854 total time=  14.3s\n",
      "[CV 2/3] END bespoke__num_kernels=17000, selectkbest__k=10000;, score=0.861 total time=  14.0s\n",
      "[CV 3/3] END bespoke__num_kernels=17000, selectkbest__k=10000;, score=0.860 total time=  14.5s\n",
      "[CV 1/3] END bespoke__num_kernels=18000, selectkbest__k=5000;, score=0.851 total time=  11.0s\n",
      "[CV 2/3] END bespoke__num_kernels=18000, selectkbest__k=5000;, score=0.872 total time=  11.3s\n",
      "[CV 3/3] END bespoke__num_kernels=18000, selectkbest__k=5000;, score=0.847 total time=  11.4s\n",
      "[CV 1/3] END bespoke__num_kernels=18000, selectkbest__k=6000;, score=0.858 total time=  16.9s\n",
      "[CV 2/3] END bespoke__num_kernels=18000, selectkbest__k=6000;, score=0.867 total time=  14.4s\n",
      "[CV 3/3] END bespoke__num_kernels=18000, selectkbest__k=6000;, score=0.853 total time=  14.0s\n",
      "[CV 1/3] END bespoke__num_kernels=18000, selectkbest__k=7000;, score=0.855 total time=  12.3s\n",
      "[CV 2/3] END bespoke__num_kernels=18000, selectkbest__k=7000;, score=0.861 total time=  12.2s\n",
      "[CV 3/3] END bespoke__num_kernels=18000, selectkbest__k=7000;, score=0.860 total time=  12.4s\n",
      "[CV 1/3] END bespoke__num_kernels=18000, selectkbest__k=8000;, score=0.857 total time=  13.1s\n",
      "[CV 2/3] END bespoke__num_kernels=18000, selectkbest__k=8000;, score=0.866 total time=  13.2s\n",
      "[CV 3/3] END bespoke__num_kernels=18000, selectkbest__k=8000;, score=0.865 total time=  13.4s\n",
      "[CV 1/3] END bespoke__num_kernels=18000, selectkbest__k=9000;, score=0.856 total time=  14.1s\n",
      "[CV 2/3] END bespoke__num_kernels=18000, selectkbest__k=9000;, score=0.862 total time=  14.6s\n",
      "[CV 3/3] END bespoke__num_kernels=18000, selectkbest__k=9000;, score=0.863 total time=  13.9s\n",
      "[CV 1/3] END bespoke__num_kernels=18000, selectkbest__k=10000;, score=0.858 total time=  15.5s\n",
      "[CV 2/3] END bespoke__num_kernels=18000, selectkbest__k=10000;, score=0.858 total time=  16.4s\n",
      "[CV 3/3] END bespoke__num_kernels=18000, selectkbest__k=10000;, score=0.858 total time=  15.0s\n",
      "[CV 1/3] END bespoke__num_kernels=19000, selectkbest__k=5000;, score=0.858 total time=  12.5s\n",
      "[CV 2/3] END bespoke__num_kernels=19000, selectkbest__k=5000;, score=0.870 total time=  12.0s\n",
      "[CV 3/3] END bespoke__num_kernels=19000, selectkbest__k=5000;, score=0.855 total time=  11.5s\n",
      "[CV 1/3] END bespoke__num_kernels=19000, selectkbest__k=6000;, score=0.851 total time=  13.5s\n",
      "[CV 2/3] END bespoke__num_kernels=19000, selectkbest__k=6000;, score=0.868 total time=  12.7s\n",
      "[CV 3/3] END bespoke__num_kernels=19000, selectkbest__k=6000;, score=0.848 total time=  12.9s\n",
      "[CV 1/3] END bespoke__num_kernels=19000, selectkbest__k=7000;, score=0.850 total time=  14.0s\n",
      "[CV 2/3] END bespoke__num_kernels=19000, selectkbest__k=7000;, score=0.867 total time=  13.2s\n",
      "[CV 3/3] END bespoke__num_kernels=19000, selectkbest__k=7000;, score=0.856 total time=  13.1s\n",
      "[CV 1/3] END bespoke__num_kernels=19000, selectkbest__k=8000;, score=0.858 total time=  14.3s\n",
      "[CV 2/3] END bespoke__num_kernels=19000, selectkbest__k=8000;, score=0.867 total time=  14.5s\n",
      "[CV 3/3] END bespoke__num_kernels=19000, selectkbest__k=8000;, score=0.863 total time=  13.7s\n",
      "[CV 1/3] END bespoke__num_kernels=19000, selectkbest__k=9000;, score=0.851 total time=  15.0s\n",
      "[CV 2/3] END bespoke__num_kernels=19000, selectkbest__k=9000;, score=0.860 total time=  14.5s\n",
      "[CV 3/3] END bespoke__num_kernels=19000, selectkbest__k=9000;, score=0.866 total time=  14.8s\n"
     ]
    },
    {
     "name": "stdout",
     "output_type": "stream",
     "text": [
      "[CV 1/3] END bespoke__num_kernels=19000, selectkbest__k=10000;, score=0.846 total time=  15.7s\n",
      "[CV 2/3] END bespoke__num_kernels=19000, selectkbest__k=10000;, score=0.866 total time=  16.2s\n",
      "[CV 3/3] END bespoke__num_kernels=19000, selectkbest__k=10000;, score=0.863 total time=  14.8s\n",
      "[CV 1/3] END bespoke__num_kernels=20000, selectkbest__k=5000;, score=0.862 total time=  11.5s\n",
      "[CV 2/3] END bespoke__num_kernels=20000, selectkbest__k=5000;, score=0.870 total time=  12.0s\n",
      "[CV 3/3] END bespoke__num_kernels=20000, selectkbest__k=5000;, score=0.857 total time=  13.8s\n",
      "[CV 1/3] END bespoke__num_kernels=20000, selectkbest__k=6000;, score=0.856 total time=  16.4s\n",
      "[CV 2/3] END bespoke__num_kernels=20000, selectkbest__k=6000;, score=0.867 total time=  13.7s\n",
      "[CV 3/3] END bespoke__num_kernels=20000, selectkbest__k=6000;, score=0.849 total time=  13.8s\n",
      "[CV 1/3] END bespoke__num_kernels=20000, selectkbest__k=7000;, score=0.853 total time=  13.5s\n",
      "[CV 2/3] END bespoke__num_kernels=20000, selectkbest__k=7000;, score=0.867 total time=  13.6s\n",
      "[CV 3/3] END bespoke__num_kernels=20000, selectkbest__k=7000;, score=0.850 total time=  14.1s\n",
      "[CV 1/3] END bespoke__num_kernels=20000, selectkbest__k=8000;, score=0.848 total time=  15.4s\n",
      "[CV 2/3] END bespoke__num_kernels=20000, selectkbest__k=8000;, score=0.858 total time=  14.5s\n",
      "[CV 3/3] END bespoke__num_kernels=20000, selectkbest__k=8000;, score=0.862 total time=  15.5s\n",
      "[CV 1/3] END bespoke__num_kernels=20000, selectkbest__k=9000;, score=0.845 total time=  16.2s\n",
      "[CV 2/3] END bespoke__num_kernels=20000, selectkbest__k=9000;, score=0.859 total time=  16.5s\n",
      "[CV 3/3] END bespoke__num_kernels=20000, selectkbest__k=9000;, score=0.864 total time=  15.8s\n",
      "[CV 1/3] END bespoke__num_kernels=20000, selectkbest__k=10000;, score=0.851 total time=  16.0s\n",
      "[CV 2/3] END bespoke__num_kernels=20000, selectkbest__k=10000;, score=0.859 total time=  15.7s\n",
      "[CV 3/3] END bespoke__num_kernels=20000, selectkbest__k=10000;, score=0.863 total time=  15.3s\n",
      "Pipeline(steps=[('bespoke',\n",
      "                 RandomPolynomialTransformer(keep_origin=True,\n",
      "                                             num_kernels=17000)),\n",
      "                ('normalizer', StandardScaler()),\n",
      "                ('constantfilter', VarianceThreshold()),\n",
      "                ('selectkbest', SelectKBest(k=7000)),\n",
      "                ('model', LinearDiscriminantAnalysis())])\n",
      "0.8637497627479177\n"
     ]
    }
   ],
   "source": [
    "clf = Pipeline(\n",
    "            [\n",
    "            #('rfe', RFE(RidgeClassifierCV(alphas=np.logspace(-5, 5, 10)), n_features_to_select=400, step=10)),\n",
    "            #('feature_selection', SelectFromModel(RidgeClassifierCV(alphas=np.logspace(-5, 5, 10), normalize=True))),\n",
    "            ('bespoke', RandomPolynomialTransformer(keep_origin=True)),            \n",
    "                \n",
    "            #('normalizer', RocketNormalizer()),\n",
    "            ('normalizer', StandardScaler()),\n",
    "            #('rfe', RFE(RidgeClassifierCV(alphas=np.logspace(-5, 5, 10)), n_features_to_select=5000, step=100)),\n",
    "            #('feature_selection2', SelectFromModel(RidgeClassifierCV(alphas=np.logspace(-5, 5, 10)))),\n",
    "            ('constantfilter',VarianceThreshold()),\n",
    "            ('selectkbest',SelectKBest(f_classif)),\n",
    "            #('model', RidgeClassifierCV(alphas=np.logspace(-5, 5, 10), normalize=True))           \n",
    "            ('model', LinearDiscriminantAnalysis())           \n",
    "            ],\n",
    "            verbose=False,\n",
    "        )\n",
    "\n",
    "\n",
    "parameters = {'bespoke__num_kernels':[15000, 16000, 17000, 18000, 19000, 20000],\n",
    "              'selectkbest__k':[5000, 6000, 7000, 8000, 9000, 10000]}    \n",
    "gs2 = GridSearchCV(clf, parameters,cv=3,verbose=3)\n",
    "gs2.fit(X[:, np.r_[0:172, 206:306]],Y)\n",
    "print(gs2.best_estimator_)\n",
    "print(gs2.best_score_)"
   ]
  },
  {
   "cell_type": "markdown",
   "id": "c6a61d36",
   "metadata": {},
   "source": [
    "## Prediction on Test Data"
   ]
  },
  {
   "cell_type": "code",
   "execution_count": 9,
   "id": "72fb2ea1",
   "metadata": {
    "ExecuteTime": {
     "end_time": "2022-04-25T09:35:27.746465Z",
     "start_time": "2022-04-25T09:35:03.772464Z"
    }
   },
   "outputs": [],
   "source": [
    "clf = Pipeline(\n",
    "            [('bespoke',\n",
    "                 RandomPolynomialTransformer(keep_origin=True, num_kernels=17000)),\n",
    "                ('normalizer', StandardScaler()),\n",
    "                ('constantfilter', VarianceThreshold()),\n",
    "                ('selectkbest', SelectKBest(k=7000)),\n",
    "                ('model', LinearDiscriminantAnalysis())],\n",
    "            verbose=False,\n",
    "        )\n",
    "\n",
    "X_real_test = df_dict[\"Test\"][df_dict[\"Test\"]['col1'] >= 1].values\n",
    "clf.fit(X[:, np.r_[0:172, 206:306]],Y)\n",
    "y_pred = clf.predict(X_real_test[:, np.r_[0:172, 206:306]])"
   ]
  },
  {
   "cell_type": "code",
   "execution_count": 11,
   "id": "2422ed66",
   "metadata": {
    "ExecuteTime": {
     "end_time": "2022-04-25T09:37:33.232674Z",
     "start_time": "2022-04-25T09:37:33.211400Z"
    }
   },
   "outputs": [
    {
     "data": {
      "text/html": [
       "<div>\n",
       "<style scoped>\n",
       "    .dataframe tbody tr th:only-of-type {\n",
       "        vertical-align: middle;\n",
       "    }\n",
       "\n",
       "    .dataframe tbody tr th {\n",
       "        vertical-align: top;\n",
       "    }\n",
       "\n",
       "    .dataframe thead th {\n",
       "        text-align: right;\n",
       "    }\n",
       "</style>\n",
       "<table border=\"1\" class=\"dataframe\">\n",
       "  <thead>\n",
       "    <tr style=\"text-align: right;\">\n",
       "      <th></th>\n",
       "      <th>Class</th>\n",
       "      <th>Count</th>\n",
       "      <th>Percentage</th>\n",
       "    </tr>\n",
       "  </thead>\n",
       "  <tbody>\n",
       "    <tr>\n",
       "      <th>0</th>\n",
       "      <td>CLV</td>\n",
       "      <td>372</td>\n",
       "      <td>0.345404</td>\n",
       "    </tr>\n",
       "    <tr>\n",
       "      <th>1</th>\n",
       "      <td>GRS</td>\n",
       "      <td>366</td>\n",
       "      <td>0.339833</td>\n",
       "    </tr>\n",
       "    <tr>\n",
       "      <th>2</th>\n",
       "      <td>TMR</td>\n",
       "      <td>339</td>\n",
       "      <td>0.314763</td>\n",
       "    </tr>\n",
       "  </tbody>\n",
       "</table>\n",
       "</div>"
      ],
      "text/plain": [
       "  Class  Count  Percentage\n",
       "0   CLV    372    0.345404\n",
       "1   GRS    366    0.339833\n",
       "2   TMR    339    0.314763"
      ]
     },
     "execution_count": 11,
     "metadata": {},
     "output_type": "execute_result"
    }
   ],
   "source": [
    "counts = np.unique(y_pred, return_counts=True)\n",
    "pd.DataFrame({\"Class\": counts[0],\"Count\":counts[1],\"Percentage\":counts[1]/np.sum(counts[1])})"
   ]
  }
 ],
 "metadata": {
  "kernelspec": {
   "display_name": "Python 3 (ipykernel)",
   "language": "python",
   "name": "python3"
  },
  "language_info": {
   "codemirror_mode": {
    "name": "ipython",
    "version": 3
   },
   "file_extension": ".py",
   "mimetype": "text/x-python",
   "name": "python",
   "nbconvert_exporter": "python",
   "pygments_lexer": "ipython3",
   "version": "3.7.11"
  }
 },
 "nbformat": 4,
 "nbformat_minor": 5
}
