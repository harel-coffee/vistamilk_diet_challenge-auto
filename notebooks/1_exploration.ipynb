{
 "cells": [
  {
   "cell_type": "markdown",
   "id": "037c18cb-18c2-474b-93d9-4a6933d2392d",
   "metadata": {},
   "source": [
    "# VistaMilk data challenge\n",
    "\n",
    "## Data description\n",
    "Data used in this study originated from Teagasc Moorepark Dairy Research Farm (Fermoy, Co. Cork, Ireland) between May and August in 2015, 2016, and 2017. A total of 120 HolsteinFriesian cows from different parities were involved in the experiment across the years, with a mean number of 36 samples per cow, and with some of the cows participating in the experiment in more than 1 yr. Each year, 54 cows were randomly assigned to different dietary treatments for the entire lactation period. The treatment diets included grass (GRS), which consisted of cows maintained outdoors on a perennial ryegrass sward only, clover (CLV), where cows were maintained outdoors on a perennial ryegrass white clover sward (with an annual average clover content of 20%) only, and TMR, where cows were maintained indoors and fed with a single nutritional mix containing grass silage, maize silage, and concentrates. Further information on the experimental design and dietary treatments have been described by O’Callaghan et al. (2016). The cows were milked twice daily (0730 and 1530 h), and a.m. and p.m. milk samples were collected once weekly from consecutive milkings and analysed by a Pro-Foss FT6000 (FOSS). A total of 4,364 milk spectra were stored, comprising 1,060 wavelengths in the region from 925 cm−1 and 5,010 cm−1. The wavelengths values were recorded as transmittance values.\n",
    "\n",
    "## tl;dr\n",
    "This is a classification problem where 3 classes are targeted:\n",
    "\n",
    "- GRS\n",
    "- CLV\n",
    "- TMR\n",
    "\n",
    "Data are sampled from 54 cows across 3 years. Each data points contain 1060 wavelengths within a specified light region."
   ]
  },
  {
   "cell_type": "code",
   "execution_count": null,
   "id": "4bba3b99-e474-4c79-b0e2-142c0c2207f8",
   "metadata": {},
   "outputs": [],
   "source": [
    "import sys\n",
    "import importlib\n",
    "\n",
    "from pathlib import Path\n",
    "\n",
    "import numpy as np\n",
    "import pandas as pd\n",
    "import matplotlib.pyplot as plt\n",
    "\n",
    "import rich\n",
    "\n",
    "sys.path.insert(0, '..')\n",
    "from src import utils\n",
    "\n",
    "from sklearn.neighbors import KNeighborsClassifier\n",
    "from sklearn.linear_model import RidgeClassifierCV\n",
    "from sklearn.tree import DecisionTreeClassifier\n",
    "from sklearn.ensemble import RandomForestClassifier\n",
    "from sklearn.svm import SVC\n",
    "from sklearn.ensemble import AdaBoostClassifier\n",
    "from sklearn.neural_network import MLPClassifier\n",
    "\n",
    "from PIL import Image\n",
    "\n",
    "importlib.reload(utils)"
   ]
  },
  {
   "cell_type": "code",
   "execution_count": null,
   "id": "a2c473c7-beb6-466c-a0b5-509441a89b05",
   "metadata": {},
   "outputs": [],
   "source": [
    "# read data in\n",
    "# make the conversion only one as the xlsx files take forever to load\n",
    "full_data = Path('..', 'data', 'full_dataset.xlsx')\n",
    "train_path = Path('..', 'data', 'raw_train.csv')\n",
    "test_path = Path('..', 'data', 'raw_test.csv')\n",
    "\n",
    "train_df = utils.read_raw_data(full_data, train_path, 0)\n",
    "test_df = utils.read_raw_data(full_data, test_path, 1)"
   ]
  },
  {
   "cell_type": "code",
   "execution_count": null,
   "id": "e838d58e-cc51-40f3-b8fa-343db3fbea95",
   "metadata": {},
   "outputs": [],
   "source": [
    "no_samples = train_df.shape[0]\n",
    "no_features = train_df.shape[1] - 1\n",
    "\n",
    "rich.print(f'Total samples: {no_samples}')\n",
    "rich.print(f'Total features: {no_features}')"
   ]
  },
  {
   "cell_type": "code",
   "execution_count": null,
   "id": "7f3886fa-24b8-4918-9a34-f2973f7e8b5b",
   "metadata": {},
   "outputs": [],
   "source": [
    "train_df.head(10)"
   ]
  },
  {
   "cell_type": "code",
   "execution_count": null,
   "id": "fa2135e2-ebad-4a75-bcd0-70ae0ccf0f24",
   "metadata": {},
   "outputs": [],
   "source": [
    "test_df.head(10)"
   ]
  },
  {
   "cell_type": "code",
   "execution_count": null,
   "id": "02e6a627-9639-4627-bd14-e22ee6382a1b",
   "metadata": {},
   "outputs": [],
   "source": [
    "train_df.describe().T"
   ]
  },
  {
   "cell_type": "code",
   "execution_count": null,
   "id": "7912b4a8-5d2d-48cb-aa34-d14c7780a2b7",
   "metadata": {},
   "outputs": [],
   "source": [
    "test_df.describe().T"
   ]
  },
  {
   "cell_type": "code",
   "execution_count": null,
   "id": "a5330b9a-140e-4f21-8d41-007570e56afb",
   "metadata": {},
   "outputs": [],
   "source": [
    "f = utils.plot_wave(train_df.iloc[10], target_col='Diet')\n",
    "f.show()"
   ]
  },
  {
   "cell_type": "code",
   "execution_count": null,
   "id": "bc39f76e-1e7b-4221-975d-26e72564356e",
   "metadata": {},
   "outputs": [],
   "source": [
    "clv = train_df[train_df['Diet'] == 'CLV'].drop(['Diet'], axis=1)\n",
    "clv_centroid = np.mean(clv.values, axis=0)\n",
    "\n",
    "grs = train_df[train_df['Diet'] == 'GRS'].drop(['Diet'], axis=1)\n",
    "grs_centroid = np.mean(grs.values, axis=0)\n",
    "\n",
    "tmr = train_df[train_df['Diet'] == 'TMR'].drop(['Diet'], axis=1)\n",
    "tmr_centroid = np.mean(grs.values, axis=0)\n",
    "\n",
    "fig = plt.figure(figsize=(25, 10))\n",
    "\n",
    "plt.plot(clv_centroid, label='CLV centroid')\n",
    "plt.plot(grs_centroid, label='GRS centroid')\n",
    "plt.plot(tmr_centroid, label='TMR centroid')\n",
    "\n",
    "plt.grid()\n",
    "plt.legend()\n",
    "plt.show()"
   ]
  },
  {
   "cell_type": "code",
   "execution_count": null,
   "id": "2a4d19d5-0429-44f6-8987-30fb32bca06b",
   "metadata": {},
   "outputs": [],
   "source": [
    "clv = train_df[train_df['Diet'] == 'CLV'].drop(['Diet'], axis=1)\n",
    "clv_centroid = np.median(clv.values, axis=0)\n",
    "\n",
    "grs = train_df[train_df['Diet'] == 'GRS'].drop(['Diet'], axis=1)\n",
    "grs_centroid = np.median(grs.values, axis=0)\n",
    "\n",
    "tmr = train_df[train_df['Diet'] == 'TMR'].drop(['Diet'], axis=1)\n",
    "tmr_centroid = np.median(grs.values, axis=0)\n",
    "\n",
    "fig = plt.figure(figsize=(25, 10))\n",
    "\n",
    "plt.plot(clv_centroid, label='CLV centroid')\n",
    "plt.plot(grs_centroid, label='GRS centroid')\n",
    "plt.plot(tmr_centroid, label='TMR centroid')\n",
    "\n",
    "plt.grid()\n",
    "plt.legend()\n",
    "plt.show()"
   ]
  },
  {
   "cell_type": "code",
   "execution_count": null,
   "id": "06015854-460c-4a49-9349-b9a578c6c3d0",
   "metadata": {},
   "outputs": [],
   "source": [
    "clv = train_df[train_df['Diet'] == 'CLV'].drop(['Diet'], axis=1)\n",
    "clv_centroid = np.mean(clv.values, axis=0)\n",
    "clv_centroid_s = np.std(clv.values, axis=0)\n",
    "\n",
    "grs = train_df[train_df['Diet'] == 'GRS'].drop(['Diet'], axis=1)\n",
    "grs_centroid = np.std(grs.values, axis=0)\n",
    "\n",
    "tmr = train_df[train_df['Diet'] == 'TMR'].drop(['Diet'], axis=1)\n",
    "tmr_centroid = np.std(grs.values, axis=0)\n",
    "\n",
    "fig = plt.figure(figsize=(25, 10))\n",
    "\n",
    "plt.plot(clv_centroid, label='CLV centroid')\n",
    "plt.plot(clv_centroid_s, label='CLV centroid std')\n",
    "# plt.plot(grs_centroid, label='GRS centroid')\n",
    "# plt.plot(tmr_centroid, label='TMR centroid')\n",
    "\n",
    "plt.vlines(172, ymin=0, ymax=1, color='red', linestyle='--')\n",
    "plt.vlines(205, ymin=0, ymax=1, color='red', linestyle='--')\n",
    "\n",
    "plt.vlines(536, ymin=0, ymax=1, color='red', linestyle='--')\n",
    "plt.vlines(728, ymin=0, ymax=1, color='red', linestyle='--')\n",
    "\n",
    "plt.vlines(748, ymin=0, ymax=1, color='red', linestyle='--')\n",
    "plt.vlines(1059, ymin=0, ymax=1, color='red', linestyle='--')\n",
    "\n",
    "plt.grid()\n",
    "plt.legend()\n",
    "plt.show()"
   ]
  },
  {
   "cell_type": "code",
   "execution_count": null,
   "id": "3a843af5-d993-45ff-aa9e-1372a46a20f6",
   "metadata": {},
   "outputs": [],
   "source": [
    "rich.print(clv_centroid.std())"
   ]
  },
  {
   "cell_type": "markdown",
   "id": "813c2837-b65c-42d0-b689-f79145956338",
   "metadata": {},
   "source": [
    "## Missing values\n",
    "Check if there are any missing values within the train and the test sets."
   ]
  },
  {
   "cell_type": "code",
   "execution_count": null,
   "id": "f4689887-8582-4640-82a7-3b186be79324",
   "metadata": {},
   "outputs": [],
   "source": [
    "total_train_missing = sum(train_df.isnull().sum())\n",
    "total_test_missing = sum(test_df.isnull().sum())\n",
    "\n",
    "rich.print(f'Train missing values: {total_train_missing}')\n",
    "rich.print(f'Test missing values: {total_test_missing}')"
   ]
  },
  {
   "cell_type": "markdown",
   "id": "01d64be8-4b4e-4e74-826b-b27789d9d7f8",
   "metadata": {},
   "source": [
    "## Target variable: `Diet` column"
   ]
  },
  {
   "cell_type": "code",
   "execution_count": null,
   "id": "f704a79c-4715-4e57-9c3a-59a86ff4fe72",
   "metadata": {},
   "outputs": [],
   "source": [
    "target = train_df['Diet']\n",
    "unique_target_values = target.unique()\n",
    "target_stats = {}\n",
    "\n",
    "for target_value in unique_target_values:\n",
    "    target_stats[target_value] = {\n",
    "        'count': train_df[train_df['Diet'] == target_value].shape[0],\n",
    "        'perc': train_df[train_df['Diet'] == target_value].shape[0] / train_df.shape[0]\n",
    "    }\n",
    "\n",
    "rich.print(f'Unique values in the target column: {unique_target_values}')\n",
    "print()\n",
    "\n",
    "for t, v in target_stats.items():\n",
    "    count = v['count']\n",
    "    perc = v['perc']\n",
    "    rich.print(f'Target {t}: {count} instances ({perc}% of total)')"
   ]
  },
  {
   "cell_type": "code",
   "execution_count": null,
   "id": "b913898c-60c9-462b-b8c1-57dae4912a07",
   "metadata": {},
   "outputs": [],
   "source": [
    "fig = plt.figure(figsize=(10, 10))\n",
    "plt.hist(target)\n",
    "plt.grid()\n",
    "plt.show()"
   ]
  },
  {
   "cell_type": "code",
   "execution_count": null,
   "id": "725ed204-cd27-4f8e-8415-8690433eaa52",
   "metadata": {},
   "outputs": [],
   "source": [
    "missing_targets = target.isnull().sum()\n",
    "rich.print(f'Missing labels: {missing_targets}')"
   ]
  },
  {
   "cell_type": "markdown",
   "id": "fe78cf70-55cf-432d-8e23-b5aae31e7b6f",
   "metadata": {},
   "source": [
    "## Basic model training\n",
    "These training examples are based on a stratified 5-fold cross validation."
   ]
  },
  {
   "cell_type": "code",
   "execution_count": null,
   "id": "05ad3872-38df-465d-a340-335f9eadcb86",
   "metadata": {},
   "outputs": [],
   "source": [
    "# data shuffling here: move somewhere else\n",
    "train_df = train_df.sample(frac=1)\n",
    "\n",
    "X_train = train_df.drop(['Diet'], axis=1)\n",
    "y = train_df['Diet']"
   ]
  },
  {
   "cell_type": "code",
   "execution_count": null,
   "id": "b2285b3d-c49d-49a2-9ec7-15ec7009d5af",
   "metadata": {},
   "outputs": [],
   "source": [
    "classifiers = {\n",
    "    # 'knn': KNeighborsClassifier(),\n",
    "    # 'ridge': RidgeClassifierCV(alphas=np.logspace(-3, 3, 10)),\n",
    "    'tree': DecisionTreeClassifier(),\n",
    "    # 'forest': RandomForestClassifier(),\n",
    "    # 'SVM': SVC(),\n",
    "    # 'adaboost': AdaBoostClassifier(),\n",
    "    # 'mlp': MLPClassifier()\n",
    "}\n",
    "\n",
    "for cls_name, classifier in classifiers.items():\n",
    "    score, pred, report, confusion = utils.basics(classifier, X_train, y)\n",
    "    \n",
    "    rich.print(f'[bold underline magenta]{cls_name}[/bold underline magenta]')\n",
    "    rich.print(f'Scores: {score} (avg. {score.mean()})')\n",
    "    rich.print(report)\n",
    "    rich.print(confusion)\n",
    "    print()"
   ]
  },
  {
   "cell_type": "markdown",
   "id": "de00621d-dc4d-4aa6-b639-fe86a4cb58ec",
   "metadata": {},
   "source": [
    "## Convolutional approach\n",
    "Treat the waves as images, then use regular CNNs + FCN to classify them."
   ]
  },
  {
   "cell_type": "code",
   "execution_count": null,
   "id": "770de33b-0250-4dc6-ae85-25da7e57bab1",
   "metadata": {},
   "outputs": [],
   "source": [
    "# to make the wave image-like, the dimensions should be 33x33\n",
    "# (1060 original size, closest square is 1089 = 33^2)\n",
    "# (for RGB conversion, the resulting image would only be 19x19 with a padding of 23)\n",
    "padded_df = X_train.copy()\n",
    "\n",
    "for i in range(29):\n",
    "    wave = 1061 + i\n",
    "    padded_df[f'col{wave}'] = 0\n",
    "\n",
    "img_like = padded_df.iloc[10].values\n",
    "\n",
    "# img_like *= 255 / img_like.max()\n",
    "img_like = img_like.reshape((33, 33))\n",
    "\n",
    "plt.imshow(img_like, cmap='Greys')\n",
    "plt.colorbar()\n",
    "\n",
    "im = Image.fromarray(img_like)\n",
    "im = im.convert('RGB')\n",
    "im.save('test.png')"
   ]
  }
 ],
 "metadata": {
  "kernelspec": {
   "display_name": "Python 3 (ipykernel)",
   "language": "python",
   "name": "python3"
  },
  "language_info": {
   "codemirror_mode": {
    "name": "ipython",
    "version": 3
   },
   "file_extension": ".py",
   "mimetype": "text/x-python",
   "name": "python",
   "nbconvert_exporter": "python",
   "pygments_lexer": "ipython3",
   "version": "3.8.10"
  }
 },
 "nbformat": 4,
 "nbformat_minor": 5
}
