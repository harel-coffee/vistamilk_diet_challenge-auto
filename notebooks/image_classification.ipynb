{
 "cells": [
  {
   "cell_type": "code",
   "execution_count": null,
   "id": "f381f5df-c5ca-49cd-bc7a-d532806847d4",
   "metadata": {},
   "outputs": [],
   "source": [
    "import sys\n",
    "import importlib\n",
    "import datetime\n",
    "\n",
    "from pathlib import Path\n",
    "\n",
    "import numpy as np\n",
    "import pandas as pd\n",
    "import tensorflow as tf\n",
    "import matplotlib.pyplot as plt\n",
    "\n",
    "import rich\n",
    "\n",
    "sys.path.insert(0, '..')\n",
    "from src import utils\n",
    "\n",
    "from tensorflow.keras import layers, models\n",
    "from sklearn.model_selection import train_test_split\n",
    "from PIL import Image\n",
    "\n",
    "importlib.reload(utils)"
   ]
  },
  {
   "cell_type": "code",
   "execution_count": null,
   "id": "718bdea9-8242-47b8-b5b5-ccaad6ea2a1d",
   "metadata": {},
   "outputs": [],
   "source": [
    "gpu_devices = tf.config.experimental.list_physical_devices('GPU')\n",
    "\n",
    "for device in gpu_devices:\n",
    "    rich.print(device)\n",
    "    tf.config.experimental.set_memory_growth(device, True)"
   ]
  },
  {
   "cell_type": "code",
   "execution_count": null,
   "id": "17fdff55-71a1-419a-b407-e54318865b83",
   "metadata": {},
   "outputs": [],
   "source": [
    "full_data = Path('..', 'data', 'full_dataset.xlsx')\n",
    "train_path = Path('..', 'data', 'raw_train.csv')\n",
    "test_path = Path('..', 'data', 'raw_test.csv')\n",
    "\n",
    "train_df = utils.read_raw_data(full_data, train_path, 0)\n",
    "test_df = utils.read_raw_data(full_data, test_path, 1)\n",
    "\n",
    "# shuffle the dataset\n",
    "train_df = train_df.sample(frac=1, random_state=42)\n",
    "\n",
    "X_pandas = train_df.drop(['Diet'], axis=1)\n",
    "y = train_df['Diet']\n",
    "\n",
    "train_waves = utils.convert_waves(X_pandas)\n",
    "\n",
    "y = y.map({'GRS': 0, 'CLV': 1, 'TMR': 2}).values\n",
    "train_labels = y.reshape((y.shape[0], 1))\n",
    "\n",
    "y = tf.one_hot(y, depth=3).numpy()\n",
    "\n",
    "T_X, test_X, T_y, test_y = train_test_split(\n",
    "    train_waves, y, stratify=train_labels, test_size=0.2)\n",
    "\n",
    "training_X, validation_X, training_y, validation_y = train_test_split(\n",
    "    T_X, T_y, stratify=T_y, test_size=0.25)\n",
    "\n",
    "rich.print(f'Training set shape: {training_X.shape}')\n",
    "rich.print(f'Validation set shape: {validation_X.shape}')\n",
    "rich.print(f'Test set shape: {test_X.shape}')"
   ]
  },
  {
   "cell_type": "code",
   "execution_count": null,
   "id": "ae40b2f5-6fd1-47a4-962c-af62a463fb8d",
   "metadata": {},
   "outputs": [],
   "source": [
    "log_dir = '../logs/fit/' + datetime.datetime.now().strftime('%Y%m%d-%H%M%S')\n",
    "tensorboard_callback = tf.keras.callbacks.TensorBoard(log_dir=log_dir, histogram_freq=1)"
   ]
  },
  {
   "cell_type": "code",
   "execution_count": null,
   "id": "5a6bd85f-d3ca-4fd4-8c23-176044dd3f1b",
   "metadata": {},
   "outputs": [],
   "source": [
    "model = models.Sequential()\n",
    "\n",
    "# model.add(layers.Rescaling(1./255, input_shape=(33, 33, 1)))\n",
    "model.add(layers.Conv2D(16, (4, 4), activation='relu', input_shape=(33, 33, 1)))\n",
    "model.add(layers.MaxPooling2D((2, 2)))\n",
    "model.add(layers.Conv2D(32, (3, 3), activation='relu'))\n",
    "model.add(layers.MaxPooling2D((2, 2)))\n",
    "# model.add(layers.Conv2D(128, (2, 2), activation='relu'))\n",
    "\n",
    "model.add(layers.Flatten())\n",
    "# model.add(layers.Dense(256, activation='relu'))\n",
    "# model.add(layers.Dropout(.2))\n",
    "# model.add(layers.Dense(128, activation='relu'))\n",
    "# model.add(layers.Dropout(.2))\n",
    "# model.add(layers.Dense(64, activation='relu'))\n",
    "# model.add(layers.Dropout(.2))\n",
    "model.add(layers.Dense(32, activation='relu'))\n",
    "model.add(layers.Dropout(.2))\n",
    "model.add(layers.Dense(3, activation='softmax'))"
   ]
  },
  {
   "cell_type": "code",
   "execution_count": null,
   "id": "37fda54a-208e-4f54-8333-5eefc2ba8ed5",
   "metadata": {},
   "outputs": [],
   "source": [
    "model.summary()"
   ]
  },
  {
   "cell_type": "code",
   "execution_count": null,
   "id": "f6bff08b-5d2b-4513-8fe6-a9bb664a282f",
   "metadata": {},
   "outputs": [],
   "source": [
    "tf.keras.utils.plot_model(\n",
    "    model,\n",
    "    to_file=\"model.png\",\n",
    "    show_shapes=True,\n",
    "    show_layer_names=True,\n",
    "    rankdir=\"TB\",\n",
    "    expand_nested=True,\n",
    "    dpi=96,\n",
    ")"
   ]
  },
  {
   "cell_type": "code",
   "execution_count": null,
   "id": "2f57ce72-6741-4ee1-8115-d55c06e0d1ae",
   "metadata": {},
   "outputs": [],
   "source": [
    "model.compile(optimizer='adam',\n",
    "              loss=tf.keras.losses.CategoricalCrossentropy(from_logits=True),\n",
    "              metrics=['accuracy'])"
   ]
  },
  {
   "cell_type": "code",
   "execution_count": null,
   "id": "f4b8c133-4e9f-499f-b644-ea38fdca04e8",
   "metadata": {},
   "outputs": [],
   "source": [
    "history = model.fit(training_X,\n",
    "                    training_y,\n",
    "                    validation_data=(validation_X, validation_y),\n",
    "                    epochs=400,\n",
    "                    callbacks=[tensorboard_callback])"
   ]
  },
  {
   "cell_type": "code",
   "execution_count": null,
   "id": "4ede787b-cb12-4d3d-a766-850e064e843a",
   "metadata": {},
   "outputs": [],
   "source": [
    "fig = plt.figure(figsize=(10, 5))\n",
    "\n",
    "plt.plot(history.history['accuracy'], label='train acc.')\n",
    "plt.plot(history.history['val_accuracy'], label='validation acc.')\n",
    "plt.xlabel('epoch')\n",
    "plt.ylabel('accuracy')\n",
    "plt.legend()\n",
    "plt.grid()"
   ]
  },
  {
   "cell_type": "code",
   "execution_count": null,
   "id": "4635625c-3058-4783-a937-9976cdcb5995",
   "metadata": {},
   "outputs": [],
   "source": [
    "fig = plt.figure(figsize=(10, 5))\n",
    "\n",
    "plt.plot(history.history['loss'], label='train loss')\n",
    "plt.plot(history.history['val_loss'], label='validation loss')\n",
    "plt.xlabel('epoch')\n",
    "plt.ylabel('loss')\n",
    "plt.legend()\n",
    "plt.grid()"
   ]
  },
  {
   "cell_type": "code",
   "execution_count": null,
   "id": "d8746c9b-292c-4c11-984f-2790416865a4",
   "metadata": {},
   "outputs": [],
   "source": [
    "test_loss, test_acc = model.evaluate(test_X,  test_y, verbose=2)\n",
    "\n",
    "rich.print(f'Test accuracy: {test_acc}')"
   ]
  }
 ],
 "metadata": {
  "kernelspec": {
   "display_name": "Python 3 (ipykernel)",
   "language": "python",
   "name": "python3"
  },
  "language_info": {
   "codemirror_mode": {
    "name": "ipython",
    "version": 3
   },
   "file_extension": ".py",
   "mimetype": "text/x-python",
   "name": "python",
   "nbconvert_exporter": "python",
   "pygments_lexer": "ipython3",
   "version": "3.8.10"
  }
 },
 "nbformat": 4,
 "nbformat_minor": 5
}
